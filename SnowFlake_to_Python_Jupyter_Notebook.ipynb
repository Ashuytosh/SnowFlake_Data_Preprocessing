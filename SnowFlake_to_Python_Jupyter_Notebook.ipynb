{
 "cells": [
  {
   "cell_type": "code",
   "execution_count": 2,
   "id": "a5d549cb",
   "metadata": {},
   "outputs": [
    {
     "name": "stdout",
     "output_type": "stream",
     "text": [
      "Collecting snowflake-connector-python\n",
      "  Downloading snowflake_connector_python-3.15.0-cp39-cp39-win_amd64.whl.metadata (72 kB)\n",
      "     ---------------------------------------- 72.3/72.3 kB 1.3 MB/s eta 0:00:00\n",
      "Collecting asn1crypto<2.0.0,>0.24.0 (from snowflake-connector-python)\n",
      "  Downloading asn1crypto-1.5.1-py2.py3-none-any.whl.metadata (13 kB)\n",
      "Requirement already satisfied: boto3>=1.24 in c:\\users\\sahoo\\anaconda3\\lib\\site-packages (from snowflake-connector-python) (1.24.28)\n",
      "Requirement already satisfied: botocore>=1.24 in c:\\users\\sahoo\\anaconda3\\lib\\site-packages (from snowflake-connector-python) (1.27.28)\n",
      "Requirement already satisfied: cffi<2.0.0,>=1.9 in c:\\users\\sahoo\\anaconda3\\lib\\site-packages (from snowflake-connector-python) (1.15.1)\n",
      "Requirement already satisfied: cryptography>=3.1.0 in c:\\users\\sahoo\\anaconda3\\lib\\site-packages (from snowflake-connector-python) (37.0.1)\n",
      "Requirement already satisfied: pyOpenSSL<26.0.0,>=22.0.0 in c:\\users\\sahoo\\anaconda3\\lib\\site-packages (from snowflake-connector-python) (22.0.0)\n",
      "Requirement already satisfied: pyjwt<3.0.0 in c:\\users\\sahoo\\anaconda3\\lib\\site-packages (from snowflake-connector-python) (2.4.0)\n",
      "Requirement already satisfied: pytz in c:\\users\\sahoo\\anaconda3\\lib\\site-packages (from snowflake-connector-python) (2022.1)\n",
      "Requirement already satisfied: requests<3.0.0 in c:\\users\\sahoo\\anaconda3\\lib\\site-packages (from snowflake-connector-python) (2.28.1)\n",
      "Requirement already satisfied: packaging in c:\\users\\sahoo\\anaconda3\\lib\\site-packages (from snowflake-connector-python) (21.3)\n",
      "Requirement already satisfied: charset_normalizer<4,>=2 in c:\\users\\sahoo\\anaconda3\\lib\\site-packages (from snowflake-connector-python) (2.0.4)\n",
      "Requirement already satisfied: idna<4,>=2.5 in c:\\users\\sahoo\\anaconda3\\lib\\site-packages (from snowflake-connector-python) (3.3)\n",
      "Requirement already satisfied: urllib3<2.0.0,>=1.21.1 in c:\\users\\sahoo\\anaconda3\\lib\\site-packages (from snowflake-connector-python) (1.26.11)\n",
      "Requirement already satisfied: certifi>=2017.4.17 in c:\\users\\sahoo\\anaconda3\\lib\\site-packages (from snowflake-connector-python) (2024.6.2)\n",
      "Requirement already satisfied: typing_extensions<5,>=4.3 in c:\\users\\sahoo\\anaconda3\\lib\\site-packages (from snowflake-connector-python) (4.12.2)\n",
      "Requirement already satisfied: filelock<4,>=3.5 in c:\\users\\sahoo\\anaconda3\\lib\\site-packages (from snowflake-connector-python) (3.6.0)\n",
      "Requirement already satisfied: sortedcontainers>=2.4.0 in c:\\users\\sahoo\\anaconda3\\lib\\site-packages (from snowflake-connector-python) (2.4.0)\n",
      "Collecting platformdirs<5.0.0,>=2.6.0 (from snowflake-connector-python)\n",
      "  Downloading platformdirs-4.3.8-py3-none-any.whl.metadata (12 kB)\n",
      "Requirement already satisfied: tomlkit in c:\\users\\sahoo\\anaconda3\\lib\\site-packages (from snowflake-connector-python) (0.11.1)\n",
      "Requirement already satisfied: jmespath<2.0.0,>=0.7.1 in c:\\users\\sahoo\\anaconda3\\lib\\site-packages (from boto3>=1.24->snowflake-connector-python) (0.10.0)\n",
      "Requirement already satisfied: s3transfer<0.7.0,>=0.6.0 in c:\\users\\sahoo\\anaconda3\\lib\\site-packages (from boto3>=1.24->snowflake-connector-python) (0.6.0)\n",
      "Requirement already satisfied: python-dateutil<3.0.0,>=2.1 in c:\\users\\sahoo\\anaconda3\\lib\\site-packages (from botocore>=1.24->snowflake-connector-python) (2.8.2)\n",
      "Requirement already satisfied: pycparser in c:\\users\\sahoo\\anaconda3\\lib\\site-packages (from cffi<2.0.0,>=1.9->snowflake-connector-python) (2.21)\n",
      "Requirement already satisfied: pyparsing!=3.0.5,>=2.0.2 in c:\\users\\sahoo\\anaconda3\\lib\\site-packages (from packaging->snowflake-connector-python) (3.0.9)\n",
      "Requirement already satisfied: six>=1.5 in c:\\users\\sahoo\\anaconda3\\lib\\site-packages (from python-dateutil<3.0.0,>=2.1->botocore>=1.24->snowflake-connector-python) (1.16.0)\n",
      "Downloading snowflake_connector_python-3.15.0-cp39-cp39-win_amd64.whl (949 kB)\n",
      "   --------------------------------------- 949.1/949.1 kB 10.0 MB/s eta 0:00:00\n",
      "Downloading asn1crypto-1.5.1-py2.py3-none-any.whl (105 kB)\n",
      "   ---------------------------------------- 105.0/105.0 kB 6.3 MB/s eta 0:00:00\n",
      "Downloading platformdirs-4.3.8-py3-none-any.whl (18 kB)\n",
      "Installing collected packages: asn1crypto, platformdirs, snowflake-connector-python\n",
      "  Attempting uninstall: platformdirs\n",
      "    Found existing installation: platformdirs 2.5.2\n",
      "    Uninstalling platformdirs-2.5.2:\n",
      "      Successfully uninstalled platformdirs-2.5.2\n",
      "Successfully installed asn1crypto-1.5.1 platformdirs-4.3.8 snowflake-connector-python-3.15.0\n",
      "Note: you may need to restart the kernel to use updated packages.\n"
     ]
    },
    {
     "name": "stderr",
     "output_type": "stream",
     "text": [
      "ERROR: pip's dependency resolver does not currently take into account all the packages that are installed. This behaviour is the source of the following dependency conflicts.\n",
      "spyder 5.2.2 requires pyqt5<5.13, which is not installed.\n",
      "spyder 5.2.2 requires pyqtwebengine<5.13, which is not installed.\n",
      "\n",
      "[notice] A new release of pip is available: 24.1.1 -> 25.1.1\n",
      "[notice] To update, run: python.exe -m pip install --upgrade pip\n"
     ]
    }
   ],
   "source": [
    "pip install snowflake-connector-python\n"
   ]
  },
  {
   "cell_type": "code",
   "execution_count": 11,
   "id": "cfca78c4",
   "metadata": {},
   "outputs": [
    {
     "name": "stdout",
     "output_type": "stream",
     "text": [
      "Requirement already satisfied: snowflake-connector-python in c:\\users\\sahoo\\anaconda3\\lib\\site-packages (3.15.0)\n",
      "Requirement already satisfied: asn1crypto<2.0.0,>0.24.0 in c:\\users\\sahoo\\anaconda3\\lib\\site-packages (from snowflake-connector-python) (1.5.1)\n",
      "Requirement already satisfied: boto3>=1.24 in c:\\users\\sahoo\\anaconda3\\lib\\site-packages (from snowflake-connector-python) (1.24.28)\n",
      "Requirement already satisfied: botocore>=1.24 in c:\\users\\sahoo\\anaconda3\\lib\\site-packages (from snowflake-connector-python) (1.27.28)\n",
      "Requirement already satisfied: cffi<2.0.0,>=1.9 in c:\\users\\sahoo\\anaconda3\\lib\\site-packages (from snowflake-connector-python) (1.15.1)\n",
      "Requirement already satisfied: cryptography>=3.1.0 in c:\\users\\sahoo\\anaconda3\\lib\\site-packages (from snowflake-connector-python) (37.0.1)\n",
      "Requirement already satisfied: pyOpenSSL<26.0.0,>=22.0.0 in c:\\users\\sahoo\\anaconda3\\lib\\site-packages (from snowflake-connector-python) (22.0.0)\n",
      "Requirement already satisfied: pyjwt<3.0.0 in c:\\users\\sahoo\\anaconda3\\lib\\site-packages (from snowflake-connector-python) (2.4.0)\n",
      "Requirement already satisfied: pytz in c:\\users\\sahoo\\anaconda3\\lib\\site-packages (from snowflake-connector-python) (2022.1)\n",
      "Requirement already satisfied: requests<3.0.0 in c:\\users\\sahoo\\anaconda3\\lib\\site-packages (from snowflake-connector-python) (2.28.1)\n",
      "Requirement already satisfied: packaging in c:\\users\\sahoo\\anaconda3\\lib\\site-packages (from snowflake-connector-python) (21.3)\n",
      "Requirement already satisfied: charset_normalizer<4,>=2 in c:\\users\\sahoo\\anaconda3\\lib\\site-packages (from snowflake-connector-python) (2.0.4)\n",
      "Requirement already satisfied: idna<4,>=2.5 in c:\\users\\sahoo\\anaconda3\\lib\\site-packages (from snowflake-connector-python) (3.3)\n",
      "Requirement already satisfied: urllib3<2.0.0,>=1.21.1 in c:\\users\\sahoo\\anaconda3\\lib\\site-packages (from snowflake-connector-python) (1.26.11)\n",
      "Requirement already satisfied: certifi>=2017.4.17 in c:\\users\\sahoo\\anaconda3\\lib\\site-packages (from snowflake-connector-python) (2024.6.2)\n",
      "Requirement already satisfied: typing_extensions<5,>=4.3 in c:\\users\\sahoo\\anaconda3\\lib\\site-packages (from snowflake-connector-python) (4.12.2)\n",
      "Requirement already satisfied: filelock<4,>=3.5 in c:\\users\\sahoo\\anaconda3\\lib\\site-packages (from snowflake-connector-python) (3.6.0)\n",
      "Requirement already satisfied: sortedcontainers>=2.4.0 in c:\\users\\sahoo\\anaconda3\\lib\\site-packages (from snowflake-connector-python) (2.4.0)\n",
      "Requirement already satisfied: platformdirs<5.0.0,>=2.6.0 in c:\\users\\sahoo\\anaconda3\\lib\\site-packages (from snowflake-connector-python) (4.3.8)\n",
      "Requirement already satisfied: tomlkit in c:\\users\\sahoo\\anaconda3\\lib\\site-packages (from snowflake-connector-python) (0.11.1)\n",
      "Requirement already satisfied: jmespath<2.0.0,>=0.7.1 in c:\\users\\sahoo\\anaconda3\\lib\\site-packages (from boto3>=1.24->snowflake-connector-python) (0.10.0)\n",
      "Requirement already satisfied: s3transfer<0.7.0,>=0.6.0 in c:\\users\\sahoo\\anaconda3\\lib\\site-packages (from boto3>=1.24->snowflake-connector-python) (0.6.0)\n",
      "Requirement already satisfied: python-dateutil<3.0.0,>=2.1 in c:\\users\\sahoo\\anaconda3\\lib\\site-packages (from botocore>=1.24->snowflake-connector-python) (2.8.2)\n",
      "Requirement already satisfied: pycparser in c:\\users\\sahoo\\anaconda3\\lib\\site-packages (from cffi<2.0.0,>=1.9->snowflake-connector-python) (2.21)\n",
      "Requirement already satisfied: pyparsing!=3.0.5,>=2.0.2 in c:\\users\\sahoo\\anaconda3\\lib\\site-packages (from packaging->snowflake-connector-python) (3.0.9)\n",
      "Requirement already satisfied: six>=1.5 in c:\\users\\sahoo\\anaconda3\\lib\\site-packages (from python-dateutil<3.0.0,>=2.1->botocore>=1.24->snowflake-connector-python) (1.16.0)\n",
      "Note: you may need to restart the kernel to use updated packages.\n"
     ]
    },
    {
     "name": "stderr",
     "output_type": "stream",
     "text": [
      "\n",
      "[notice] A new release of pip is available: 24.1.1 -> 25.1.1\n",
      "[notice] To update, run: python.exe -m pip install --upgrade pip\n"
     ]
    }
   ],
   "source": [
    "pip install --upgrade snowflake-connector-python\n"
   ]
  },
  {
   "cell_type": "code",
   "execution_count": 6,
   "id": "ecae019a",
   "metadata": {},
   "outputs": [],
   "source": [
    "import snowflake.connector\n",
    "import pandas as pd"
   ]
  },
  {
   "cell_type": "code",
   "execution_count": 16,
   "id": "fe1b4f42",
   "metadata": {},
   "outputs": [
    {
     "name": "stdout",
     "output_type": "stream",
     "text": [
      "   O_ORDERKEY  O_CUSTKEY O_ORDERDATE  ORDER_YEAR  ORDER_MONTH  ORDER_DAY  \\\n",
      "0           1      36901  1996-01-02        1996            1          2   \n",
      "1           2      78002  1996-12-01        1996           12          1   \n",
      "2           3     123314  1993-10-14        1993           10         14   \n",
      "3           4     136777  1995-10-11        1995           10         11   \n",
      "4           5      44485  1994-07-30        1994            7         30   \n",
      "\n",
      "   ORDER_DAYOFWEEK  ORDER_WEEKOFYEAR  IS_FILLED  IS_OPEN  IS_PENDING  \\\n",
      "0                2                 1          0        1           0   \n",
      "1                0                48          0        1           0   \n",
      "2                4                41          1        0           0   \n",
      "3                3                41          0        1           0   \n",
      "4                6                30          1        0           0   \n",
      "\n",
      "   IS_URGENT  IS_HIGH  IS_MEDIUM  IS_NOT_SPECIFIED O_TOTALPRICE  \\\n",
      "0          0        0          0                 0    173665.47   \n",
      "1          1        0          0                 0     46929.18   \n",
      "2          0        0          0                 0    193846.25   \n",
      "3          0        0          0                 0     32151.78   \n",
      "4          0        0          0                 0    144659.20   \n",
      "\n",
      "  TOTALPRICE_NORMALIZED  DAYS_SINCE_FIRST_ORDER  \n",
      "0            0.31168688                    1380  \n",
      "1            0.08309738                    1728  \n",
      "2            0.34808619                     217  \n",
      "3            0.05644394                    1322  \n",
      "4            0.25936935                     914  \n"
     ]
    }
   ],
   "source": [
    "import snowflake.connector\n",
    "import pandas as pd\n",
    "\n",
    "# Establish connection\n",
    "conn = snowflake.connector.connect(\n",
    "    user='AshutoshSahoo1234',\n",
    "    password='AshutoshSahoo2025',\n",
    "    account='IZDSRLY-GR41231',\n",
    "    warehouse='COMPUTE_WH',\n",
    "    database='FEATURE_DB',\n",
    "    schema='FEATURE_SCHEMA'\n",
    ")\n",
    "\n",
    "try:\n",
    "    # Query the feature table\n",
    "    query = \"SELECT * FROM ORDER_FEATURES\"\n",
    "    cursor = conn.cursor()\n",
    "    cursor.execute(query)\n",
    "\n",
    "    # Load into a DataFrame\n",
    "    df = pd.DataFrame(cursor.fetchall(), columns=[col[0] for col in cursor.description])\n",
    "\n",
    "finally:\n",
    "    # Always close the cursor and connection\n",
    "    cursor.close()\n",
    "    conn.close()\n",
    "\n",
    "# Now df contains your features and can be used for training\n",
    "print(df.head())\n"
   ]
  },
  {
   "cell_type": "code",
   "execution_count": null,
   "id": "cef5bf0e",
   "metadata": {},
   "outputs": [],
   "source": []
  }
 ],
 "metadata": {
  "kernelspec": {
   "display_name": "Python 3 (ipykernel)",
   "language": "python",
   "name": "python3"
  },
  "language_info": {
   "codemirror_mode": {
    "name": "ipython",
    "version": 3
   },
   "file_extension": ".py",
   "mimetype": "text/x-python",
   "name": "python",
   "nbconvert_exporter": "python",
   "pygments_lexer": "ipython3",
   "version": "3.9.13"
  }
 },
 "nbformat": 4,
 "nbformat_minor": 5
}
